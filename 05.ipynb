{
 "cells": [
  {
   "cell_type": "code",
   "execution_count": 1,
   "metadata": {
    "_cell_guid": "b1076dfc-b9ad-4769-8c92-a6c4dae69d19",
    "_uuid": "8f2839f25d086af736a60e9eeb907d3b93b6e0e5",
    "execution": {
     "iopub.execute_input": "2022-02-02T09:46:58.916278Z",
     "iopub.status.busy": "2022-02-02T09:46:58.915480Z",
     "iopub.status.idle": "2022-02-02T09:46:58.928915Z",
     "shell.execute_reply": "2022-02-02T09:46:58.928139Z",
     "shell.execute_reply.started": "2022-02-02T09:46:58.916167Z"
    }
   },
   "outputs": [],
   "source": [
    "import pandas as pd\n",
    "import numpy as np\n",
    "import string, os\n",
    "import random"
   ]
  },
  {
   "cell_type": "code",
   "execution_count": 2,
   "metadata": {
    "execution": {
     "iopub.execute_input": "2022-02-02T09:46:58.931693Z",
     "iopub.status.busy": "2022-02-02T09:46:58.930873Z",
     "iopub.status.idle": "2022-02-02T09:47:00.007814Z",
     "shell.execute_reply": "2022-02-02T09:47:00.007104Z",
     "shell.execute_reply.started": "2022-02-02T09:46:58.931635Z"
    }
   },
   "outputs": [],
   "source": [
    "df = pd.read_csv(\"../input/million-headlines/abcnews-date-text.csv\")\n",
    "df.head()"
   ]
  },
  {
   "cell_type": "code",
   "execution_count": 3,
   "metadata": {
    "execution": {
     "iopub.execute_input": "2022-02-02T09:47:00.010659Z",
     "iopub.status.busy": "2022-02-02T09:47:00.010464Z",
     "iopub.status.idle": "2022-02-02T09:47:00.169597Z",
     "shell.execute_reply": "2022-02-02T09:47:00.168871Z",
     "shell.execute_reply.started": "2022-02-02T09:47:00.010635Z"
    }
   },
   "outputs": [],
   "source": [
    "headlines = [h for h in df['headline_text']]\n",
    "print(\"We have\", len(headlines), \"unique headline in the dataset.\")"
   ]
  },
  {
   "cell_type": "markdown",
   "metadata": {},
   "source": [
    "The work is done in the following steps:\n",
    "- step 01: Creating the corpus by removing punctuations and lower caseing the headlines <br>\n",
    "- step 02: We shuffle the dataset and test on the first 2000 lines, if all goes as planned, split the dataset and wait.<br>\n",
    "- step 03: Tokenization, define a funtion that takes the corpus and return the token list and total words processed. (for generalizazions)<br>\n",
    "- step 04: Padding (pre), define a function that takes the tojen list held in step 03 and return predictors, labels and an max sentence length. (for generalizazions)<br>\n",
    "- step 05: Model creating, we will make a simple 3 layers model, the first one will be the ebmedding layer, second coes the LSTM layer (hidden) and finally a sofmax activation layer, the loss will be \"crossentropy\" (categorical since multiple, countable), the optimizer will be \"adam\" (most recommended)<br>\n",
    "- step 06: Fit the model and wait, we will do 32 batches and work over 120 epochs.<br>\n",
    "- step 07: Create a funtion that takes a seed and return a sequence of a fixed length using the model."
   ]
  },
  {
   "cell_type": "code",
   "execution_count": 4,
   "metadata": {
    "execution": {
     "iopub.execute_input": "2022-02-02T09:47:00.172136Z",
     "iopub.status.busy": "2022-02-02T09:47:00.170903Z",
     "iopub.status.idle": "2022-02-02T09:47:08.390819Z",
     "shell.execute_reply": "2022-02-02T09:47:08.390068Z",
     "shell.execute_reply.started": "2022-02-02T09:47:00.172096Z"
    }
   },
   "outputs": [],
   "source": [
    "#Step 01.\n",
    "\n",
    "def clean_text(txt):\n",
    "    txt = \"\".join(x for x in txt if x not in string.punctuation).lower()\n",
    "    txt = txt.encode(\"utf8\").decode(\"ascii\",'ignore')\n",
    "    return txt \n",
    "\n",
    "corpus = [clean_text(h) for h in headlines]"
   ]
  },
  {
   "cell_type": "code",
   "execution_count": 5,
   "metadata": {
    "execution": {
     "iopub.execute_input": "2022-02-02T09:47:08.393532Z",
     "iopub.status.busy": "2022-02-02T09:47:08.393253Z",
     "iopub.status.idle": "2022-02-02T09:47:09.710017Z",
     "shell.execute_reply": "2022-02-02T09:47:09.709255Z",
     "shell.execute_reply.started": "2022-02-02T09:47:08.393486Z"
    }
   },
   "outputs": [],
   "source": [
    "#Step 02.\n",
    "\n",
    "import random\n",
    "random.shuffle(corpus)\n",
    "corpus = corpus[: 20000]"
   ]
  },
  {
   "cell_type": "code",
   "execution_count": 6,
   "metadata": {
    "execution": {
     "iopub.execute_input": "2022-02-02T09:47:09.711746Z",
     "iopub.status.busy": "2022-02-02T09:47:09.711494Z",
     "iopub.status.idle": "2022-02-02T09:47:09.721338Z",
     "shell.execute_reply": "2022-02-02T09:47:09.720631Z",
     "shell.execute_reply.started": "2022-02-02T09:47:09.711710Z"
    }
   },
   "outputs": [],
   "source": [
    "\"\"\"from typing import List\n",
    "\n",
    "def chunks(lst, n):\n",
    "    for i in range(0, len(lst), n):\n",
    "        yield lst[i:i + n]\n",
    "        \n",
    "corpusx= list(chunks(corpus, 20000))\n",
    "\n",
    "after defining functions use a for loop.\n",
    "\n",
    "In tokenizazion for example\n",
    "inpx_sequences = []\n",
    "totalx_words = []\n",
    "    \n",
    "for x in range(0, len(corpusx)):\n",
    "    inp_sequences, total_words = get_sequence_of_tokens(corpusx[x])\n",
    "    inpx_sequences.append(inp_sequences)\n",
    "    totalx_words.append(total_words)\"\"\""
   ]
  },
  {
   "cell_type": "code",
   "execution_count": 7,
   "metadata": {
    "execution": {
     "iopub.execute_input": "2022-02-02T09:47:09.723241Z",
     "iopub.status.busy": "2022-02-02T09:47:09.722921Z",
     "iopub.status.idle": "2022-02-02T09:47:12.532531Z",
     "shell.execute_reply": "2022-02-02T09:47:12.531751Z",
     "shell.execute_reply.started": "2022-02-02T09:47:09.723204Z"
    }
   },
   "outputs": [],
   "source": [
    "#Step 03.\n",
    "\n",
    "from keras.preprocessing.text import Tokenizer\n",
    "tokenizer = Tokenizer()\n",
    "\n",
    "def get_sequence_of_tokens(corpus):\n",
    "    tokenizer.fit_on_texts(corpus)\n",
    "    total_words = len(tokenizer.word_index) + 1\n",
    "    input_sequences = []\n",
    "    \n",
    "    for line in corpus:\n",
    "        token_list = tokenizer.texts_to_sequences([line])[0]\n",
    "        for i in range(1, len(token_list)):\n",
    "            n_gram_sequence = token_list[:i+1]\n",
    "            input_sequences.append(n_gram_sequence)\n",
    "    return input_sequences, total_words\n",
    "\n",
    "inp_sequences, total_words = get_sequence_of_tokens(corpus)"
   ]
  },
  {
   "cell_type": "code",
   "execution_count": 8,
   "metadata": {
    "execution": {
     "iopub.execute_input": "2022-02-02T09:47:12.534275Z",
     "iopub.status.busy": "2022-02-02T09:47:12.534034Z",
     "iopub.status.idle": "2022-02-02T09:47:13.330592Z",
     "shell.execute_reply": "2022-02-02T09:47:13.329787Z",
     "shell.execute_reply.started": "2022-02-02T09:47:12.534241Z"
    }
   },
   "outputs": [],
   "source": [
    "#Step 04.\n",
    "\n",
    "from keras.preprocessing.sequence import pad_sequences\n",
    "from tensorflow.keras.utils import to_categorical\n",
    "    \n",
    "def generate_padded_sequences(input_sequences):\n",
    "    max_sequence_len = max([len(x) for x in input_sequences])\n",
    "    input_sequences = np.array(pad_sequences(input_sequences,maxlen=max_sequence_len, padding='pre'))\n",
    "    \n",
    "    predictors, label = input_sequences[:,:-1],input_sequences[:,-1]\n",
    "    label = to_categorical(label, num_classes=total_words)\n",
    "    return predictors, label, max_sequence_len\n",
    "\n",
    "predictors, label, max_sequence_len = generate_padded_sequences(inp_sequences)"
   ]
  },
  {
   "cell_type": "code",
   "execution_count": 9,
   "metadata": {
    "execution": {
     "iopub.execute_input": "2022-02-02T09:47:13.332518Z",
     "iopub.status.busy": "2022-02-02T09:47:13.332221Z",
     "iopub.status.idle": "2022-02-02T09:47:15.948726Z",
     "shell.execute_reply": "2022-02-02T09:47:15.947990Z",
     "shell.execute_reply.started": "2022-02-02T09:47:13.332471Z"
    }
   },
   "outputs": [],
   "source": [
    "#Step 05.\n",
    "\n",
    "from keras.layers import Embedding, LSTM, Dense, Dropout\n",
    "from keras.callbacks import EarlyStopping\n",
    "from keras.models import Sequential\n",
    "\n",
    "\n",
    "def create_model(max_sequence_len, total_words):\n",
    "    input_len = max_sequence_len - 1\n",
    "    model = Sequential()\n",
    "    \n",
    "    # Add Input Embedding Layer\n",
    "    model.add(Embedding(total_words, 10, input_length=input_len))\n",
    "    \n",
    "    # Add Hidden Layer 1 - LSTM Layer\n",
    "    model.add(LSTM(100))\n",
    "    model.add(Dropout(0.1))\n",
    "    \n",
    "    # Add Output Layer\n",
    "    model.add(Dense(total_words, activation='softmax'))\n",
    "\n",
    "    model.compile(loss='categorical_crossentropy', optimizer='adam')\n",
    "    \n",
    "    return model\n",
    "\n",
    "model = create_model(max_sequence_len, total_words)\n",
    "model.summary()"
   ]
  },
  {
   "cell_type": "code",
   "execution_count": 10,
   "metadata": {
    "execution": {
     "iopub.execute_input": "2022-02-02T09:47:15.950452Z",
     "iopub.status.busy": "2022-02-02T09:47:15.950203Z",
     "iopub.status.idle": "2022-02-02T10:20:58.564628Z",
     "shell.execute_reply": "2022-02-02T10:20:58.563881Z",
     "shell.execute_reply.started": "2022-02-02T09:47:15.950418Z"
    }
   },
   "outputs": [],
   "source": [
    "model.fit(predictors, label, batch_size=32, epochs=120, verbose=5)"
   ]
  },
  {
   "cell_type": "code",
   "execution_count": 11,
   "metadata": {
    "execution": {
     "iopub.execute_input": "2022-02-02T10:20:58.566283Z",
     "iopub.status.busy": "2022-02-02T10:20:58.566032Z",
     "iopub.status.idle": "2022-02-02T10:20:58.574201Z",
     "shell.execute_reply": "2022-02-02T10:20:58.572015Z",
     "shell.execute_reply.started": "2022-02-02T10:20:58.566254Z"
    }
   },
   "outputs": [],
   "source": [
    "def generate_text(seed_text, next_words, model, max_sequence_len):\n",
    "    for _ in range(next_words):\n",
    "        token_list = tokenizer.texts_to_sequences([seed_text])[0]\n",
    "        token_list = pad_sequences([token_list], \n",
    "                                   maxlen=max_sequence_len-1, \n",
    "                                   padding='pre')\n",
    "        predicted = np.argmax(model.predict(token_list, verbose=0), axis=1) \n",
    "        \n",
    "        output_word = \"\"\n",
    "        for word,index in tokenizer.word_index.items():\n",
    "            if index == predicted:\n",
    "                output_word = word\n",
    "                break\n",
    "        seed_text += \" \"+output_word\n",
    "    return seed_text.title()"
   ]
  },
  {
   "cell_type": "code",
   "execution_count": 1,
   "metadata": {
    "execution": {
     "iopub.execute_input": "2022-02-02T11:22:09.261915Z",
     "iopub.status.busy": "2022-02-02T11:22:09.261346Z",
     "iopub.status.idle": "2022-02-02T11:22:09.340396Z",
     "shell.execute_reply": "2022-02-02T11:22:09.339495Z",
     "shell.execute_reply.started": "2022-02-02T11:22:09.261828Z"
    }
   },
   "outputs": [],
   "source": [
    "print (generate_text(\"police\", 7, model, max_sequence_len))"
   ]
  },
  {
   "cell_type": "code",
   "execution_count": null,
   "metadata": {},
   "outputs": [],
   "source": []
  }
 ],
 "metadata": {
  "kernelspec": {
   "display_name": "Python 3 (ipykernel)",
   "language": "python",
   "name": "python3"
  },
  "language_info": {
   "codemirror_mode": {
    "name": "ipython",
    "version": 3
   },
   "file_extension": ".py",
   "mimetype": "text/x-python",
   "name": "python",
   "nbconvert_exporter": "python",
   "pygments_lexer": "ipython3",
   "version": "3.8.12"
  }
 },
 "nbformat": 4,
 "nbformat_minor": 4
}
